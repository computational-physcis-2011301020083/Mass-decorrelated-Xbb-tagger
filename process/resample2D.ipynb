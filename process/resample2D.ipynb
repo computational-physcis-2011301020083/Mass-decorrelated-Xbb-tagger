{
 "cells": [
  {
   "cell_type": "code",
   "execution_count": 6,
   "metadata": {},
   "outputs": [],
   "source": [
    "import math,os,glob,h5py\n",
    "import numpy as np\n",
    "import matplotlib.pyplot as plt"
   ]
  },
  {
   "cell_type": "code",
   "execution_count": 14,
   "metadata": {},
   "outputs": [
    {
     "name": "stdout",
     "output_type": "stream",
     "text": [
      "Loading data\n",
      "Loading pt and eta\n",
      "Processing 1\n",
      "Processing 2\n",
      "Processing 3\n",
      "[      0       1       2 ... 5978387 5978393 5978397] [      0       1       2 ... 3396316 3396339 3396340] [      0       1       2 ... 3265783 3265785 3265786]\n"
     ]
    }
   ],
   "source": [
    "print(\"Loading data\")\n",
    "filepathDijets=\"../FlattenReweighted/MergedDijets.h5\"\n",
    "filepathHiggs=\"../FlattenReweighted/MergedHbb.h5\"\n",
    "filepathTop=\"../FlattenReweighted/MergedTop.h5\"\n",
    "loadDijets=h5py.File(filepathDijets,'r')\n",
    "loadHiggs=h5py.File(filepathHiggs,'r')\n",
    "loadTop=h5py.File(filepathTop,'r')\n",
    "dijets=loadDijets.get(\"data\")\n",
    "hbb=loadHiggs.get(\"data\")\n",
    "top=loadTop.get(\"data\")\n",
    "\n",
    "print(\"Loading pt and eta\")\n",
    "#dijets=np.reshape(dijets,(dijets.shape[0],dijets.shape[1]))\n",
    "#hbb=np.reshape(hbb,(hbb.shape[0],hbb.shape[1]))\n",
    "#top=np.reshape(top,(top.shape[0],top.shape[1]))\n",
    "\n",
    "#dijetspt=dijets[:,8:9]\n",
    "#higgspt=hbb[:,8:9]\n",
    "#topt=top[:,8:9]\n",
    "#dijetseta=dijets[:,9:10]\n",
    "#higgseta=hbb[:,9:10]\n",
    "#topeta=top[:,9:10]\n",
    "\n",
    "dijetspt=dijets[:,8]\n",
    "higgspt=hbb[:,8]\n",
    "topt=top[:,8]\n",
    "dijetseta=dijets[:,9]\n",
    "higgseta=hbb[:,9]\n",
    "topeta=top[:,9]\n",
    "\n",
    "dijetsweight=np.full((dijetspt.shape[0], 1), 1)\n",
    "higgsweight=np.full((higgspt.shape[0], 1), 1)\n",
    "topweight=np.full((topt.shape[0], 1), 1)\n",
    "\n",
    "ptbins=np.linspace(0, 4000, 401)\n",
    "etabins=np.linspace(-3.2, 3.2, 401)\n",
    "\n",
    "print(\"Processing 1\")\n",
    "dijetshist,_,_= np.histogram2d(dijetseta, dijetspt,[etabins, ptbins])\n",
    "higgshist,_,_ = np.histogram2d(higgseta,higgspt,[etabins, ptbins])\n",
    "tophist,_,_ = np.histogram2d(topeta,topt,[etabins, ptbins])\n",
    "\n",
    "dijets_locations_pt = np.digitize(dijetspt, ptbins) - 1\n",
    "dijets_locations_eta = np.digitize(dijetseta, etabins) - 1\n",
    "dijets_locations = zip(dijets_locations_pt, dijets_locations_eta)\n",
    "dijets_locations = list(dijets_locations)\n",
    "\n",
    "higgs_locations_pt = np.digitize(higgspt, ptbins) - 1\n",
    "higgs_locations_eta = np.digitize(higgseta, etabins) - 1\n",
    "higgs_locations = zip(higgs_locations_pt, higgs_locations_eta)\n",
    "higgs_locations = list(higgs_locations)\n",
    "\n",
    "top_locations_pt = np.digitize(topt, ptbins) - 1\n",
    "top_locations_eta = np.digitize(topeta, etabins) - 1\n",
    "top_locations = zip(top_locations_pt, top_locations_eta)\n",
    "top_locations = list(top_locations)\n",
    "\n",
    "print(\"Processing 2\")\n",
    "dijets_loc_indices = { (pti, etai) : [] for pti,_ in enumerate(ptbins[::-1]) for etai,_ in enumerate(etabins[::-1])}\n",
    "higgs_loc_indices = { (pti, etai) : [] for pti,_ in enumerate(ptbins[::-1]) for etai,_ in enumerate(etabins[::-1])}\n",
    "top_loc_indices = { (pti, etai) : [] for pti,_ in enumerate(ptbins[::-1]) for etai,_ in enumerate(etabins[::-1])}\n",
    "for i, x in enumerate(dijets_locations):\n",
    "        dijets_loc_indices[x].append(i)\n",
    "for i, x in enumerate(higgs_locations):\n",
    "        higgs_loc_indices[x].append(i)\n",
    "for i, x in enumerate(top_locations):\n",
    "        top_loc_indices[x].append(i)\n",
    "dijets_indices = []\n",
    "higgs_indices = []\n",
    "top_indices = []\n",
    "\n",
    "print(\"Processing 3\")\n",
    "for pt_bin_i in range(len(ptbins) - 1):\n",
    "        for eta_bin_i in range(len(etabins) - 1):\n",
    "            loc = (pt_bin_i, eta_bin_i)\n",
    "            ndijets = int(dijetshist[eta_bin_i][pt_bin_i])\n",
    "            nhiggs = int(higgshist[eta_bin_i][pt_bin_i])\n",
    "            ntop = int(tophist[eta_bin_i][pt_bin_i])\n",
    "            njets = min([ndijets, nhiggs, ntop])\n",
    "            dijets_indices_for_bin = dijets_loc_indices[loc][0:njets]\n",
    "            higgs_indices_for_bin = higgs_loc_indices[loc][0:njets]\n",
    "            top_indices_for_bin = top_loc_indices[loc][0:njets]\n",
    "            dijets_indices += dijets_indices_for_bin\n",
    "            higgs_indices += higgs_indices_for_bin\n",
    "            top_indices += top_indices_for_bin\n",
    "\n",
    "dijets_indices.sort()\n",
    "higgs_indices.sort()\n",
    "top_indices.sort()\n",
    "print(np.array(dijets_indices), np.array(higgs_indices), np.array(top_indices))"
   ]
  },
  {
   "cell_type": "code",
   "execution_count": 33,
   "metadata": {},
   "outputs": [
    {
     "name": "stdout",
     "output_type": "stream",
     "text": [
      "(2468413, 23)\n"
     ]
    },
    {
     "data": {
      "image/png": "[encoded data removed]",
      "text/plain": [
       "<Figure size 432x288 with 1 Axes>"
      ]
     },
     "metadata": {
      "needs_background": "light"
     },
     "output_type": "display_data"
    },
    {
     "data": {
      "text/plain": [
       "<Figure size 432x288 with 0 Axes>"
      ]
     },
     "metadata": {},
     "output_type": "display_data"
    }
   ],
   "source": [
    "plt.figure()\n",
    "Dijets=np.take(dijets, dijets_indices,axis=0)\n",
    "Higgs=np.take(hbb, higgs_indices,axis=0)\n",
    "Top=np.take(top, top_indices,axis=0)\n",
    "print(Dijets.shape)\n",
    "plt.hist(Dijets[:,9],weights=np.full((Dijets.shape[0], ), 1),bins=etabins,label=\"QCD_pt\",histtype=\"step\")\n",
    "plt.hist(Higgs[:,9],weights=np.full((Higgs.shape[0], ), 1),bins=etabins,label=\"Higgs_pt\",histtype=\"step\")\n",
    "plt.hist(Top[:,9],weights=np.full((Top.shape[0], ), 1),bins=etabins,label=\"Top_pt\",histtype=\"step\")\n",
    "#plt.plot(np.linspace(0, 4000, 400),minjets,label=\"minjets\")\n",
    "plt.xlabel('eta')\n",
    "plt.ylabel('events')\n",
    "plt.yscale(\"log\", nonposy=\"clip\")\n",
    "plt.legend(loc='best')\n",
    "plt.show()\n",
    "name=\"figures/\"+\"eta.pdf\"\n",
    "plt.savefig(name)"
   ]
  },
  {
   "cell_type": "code",
   "execution_count": 32,
   "metadata": {},
   "outputs": [
    {
     "name": "stdout",
     "output_type": "stream",
     "text": [
      "(2468413, 23)\n",
      "(2468413, 23)\n",
      "(2468413, 23)\n"
     ]
    }
   ],
   "source": [
    "finaldijets=Dijets\n",
    "print( finaldijets.shape)\n",
    "savedijets = h5py.File(\"../FlattenResample/MergedDijets.h5\", 'w')\n",
    "savedijets.create_dataset(\"data\",data=finaldijets)\n",
    "savedijets.close()\n",
    "\n",
    "finaltop=Top\n",
    "print( finaltop.shape)\n",
    "savetop = h5py.File(\"../FlattenResample/MergedTop.h5\", 'w')\n",
    "savetop.create_dataset(\"data\",data=finaltop)\n",
    "savetop.close()\n",
    "\n",
    "finalhbb=Higgs\n",
    "print( finalhbb.shape)\n",
    "savehbb = h5py.File(\"../FlattenResample/MergedHbb.h5\", 'w')\n",
    "savehbb.create_dataset(\"data\",data=finalhbb)\n",
    "savehbb.close()"
   ]
  },
  {
   "cell_type": "code",
   "execution_count": null,
   "metadata": {},
   "outputs": [
    {
     "name": "stdout",
     "output_type": "stream",
     "text": [
      "(5978412, 23)\n",
      "1\n",
      "2\n",
      "3\n"
     ]
    }
   ],
   "source": [
    "filepathDijets=\"../FlattenReweighted/MergedDijets.h5\"\n",
    "filepathHiggs=\"../FlattenReweighted/MergedHbb.h5\"\n",
    "filepathTop=\"../FlattenReweighted/MergedTop.h5\"\n",
    "loadDijets=h5py.File(filepathDijets,'r')\n",
    "loadHiggs=h5py.File(filepathHiggs,'r')\n",
    "loadTop=h5py.File(filepathTop,'r')\n",
    "dijets=loadDijets.get(\"data\")\n",
    "hbb=loadHiggs.get(\"data\")\n",
    "top=loadTop.get(\"data\")\n",
    "print(dijets.shape)\n",
    "print(\"1\")\n",
    "\n",
    "dijets=np.reshape(dijets,(dijets.shape[0],dijets.shape[1]))\n",
    "hbb=np.reshape(hbb,(hbb.shape[0],hbb.shape[1]))\n",
    "top=np.reshape(top,(top.shape[0],top.shape[1]))\n",
    "print(\"2\")\n",
    "\n",
    "dijetspt=dijets[:,8:9]\n",
    "higgspt=hbb[:,8:9]\n",
    "topt=top[:,8:9]\n",
    "dijetseta=dijets[:,9:10]\n",
    "higgseta=hbb[:,9:10]\n",
    "topeta=top[:,9:10]\n",
    "\n",
    "dijetsweight=np.full((dijetspt.shape[0], 1), 1)\n",
    "higgsweight=np.full((higgspt.shape[0], 1), 1)\n",
    "topweight=np.full((topt.shape[0], 1), 1)\n",
    "\n",
    "ptbins=np.linspace(0, 4000, 401)\n",
    "etabins=np.linspace(-3.2, 3.2, 401)\n",
    "\n",
    "\n",
    "dijetshist,binedge=np.histogram(dijetspt, bins, weights=dijetsweight)#[0]\n",
    "higgshist=np.histogram(higgspt, bins, weights=higgsweight)[0]\n",
    "tophist=np.histogram(topt, bins, weights=topweight)[0]\n",
    "\n",
    "dijetsindice=np.array(list(np.digitize(dijetspt,bins)-1))\n",
    "higgsindice=np.array(list(np.digitize(higgspt,bins)-1))\n",
    "topindice=np.array(list(np.digitize(topt,bins)-1))\n",
    "\n",
    "dijetsindicept=np.column_stack((dijetsindice,dijetspt,dijets))\n",
    "higgsindicept=np.column_stack((higgsindice,higgspt,hbb))\n",
    "topindicept=np.column_stack((topindice,topt,top))\n",
    "\n",
    "jetcounts=np.column_stack((dijetshist,higgshist,tophist))\n",
    "minjets=np.amin(jetcounts,axis=1)\n",
    "print(\"3\")\n",
    "\n",
    "for ibin, njets in enumerate(minjets):\n",
    "    #print ibin,njets,dijetshist[ibin],higgshist[ibin],tophist[ibin]\n",
    "    if njets!=0: # and ibin<=30:\n",
    "        if ibin==25:\n",
    "            redijets=dijetsindicept[dijetsindicept[:,0]==ibin][0:njets]\n",
    "            rehiggs=higgsindicept[higgsindicept[:,0]==ibin][0:njets]\n",
    "            retop=topindicept[topindicept[:,0]==ibin][0:njets]\n",
    "        else:\n",
    "            redijets=np.vstack((redijets,dijetsindicept[dijetsindicept[:,0]==ibin][0:njets]))\n",
    "            rehiggs=np.vstack((rehiggs,higgsindicept[higgsindicept[:,0]==ibin][0:njets]))\n",
    "            retop=np.vstack((retop,topindicept[topindicept[:,0]==ibin][0:njets]))\n",
    "print( \"4\")\n",
    "            \n",
    "plt.hist(redijets[:,1],weights=np.full((redijets.shape[0], ), 1),bins=bins,label=\"QCD_pt\",histtype=\"step\")\n",
    "plt.hist(rehiggs[:,1],weights=np.full((rehiggs.shape[0], ), 1),bins=bins,label=\"Higgs_pt\",histtype=\"step\")\n",
    "plt.hist(retop[:,1],weights=np.full((retop.shape[0], ), 1),bins=bins,label=\"Top_pt\",histtype=\"step\")\n",
    "plt.plot(np.linspace(0, 4000, 400),minjets,label=\"minjets\")\n",
    "plt.xlabel('pt')\n",
    "plt.ylabel('events')\n",
    "plt.yscale(\"log\", nonposy=\"clip\")\n",
    "plt.legend(loc='best')\n",
    "plt.show()\n",
    "print( \"5\")\n",
    "\n",
    "finaldijets=redijets[:,2:]\n",
    "print( finaldijets.shape)\n",
    "savedijets = h5py.File(\"../FlattenResample/MergedDijets.h5\", 'w')\n",
    "savedijets.create_dataset(\"data\",data=finaldijets)\n",
    "savedijets.close()\n",
    "\n",
    "finaltop=retop[:,2:]\n",
    "print( finaltop.shape)\n",
    "savetop = h5py.File(\"../FlattenResample/MergedTop.h5\", 'w')\n",
    "savetop.create_dataset(\"data\",data=finaltop)\n",
    "savetop.close()\n",
    "\n",
    "finalhbb=rehiggs[:,2:]\n",
    "print( finalhbb.shape)\n",
    "savehbb = h5py.File(\"../FlattenResample/MergedHbb.h5\", 'w')\n",
    "savehbb.create_dataset(\"data\",data=finalhbb)\n",
    "savehbb.close()\n",
    "\n",
    "print( \"6\")\n",
    "\n",
    "\n"
   ]
  },
  {
   "cell_type": "code",
   "execution_count": null,
   "metadata": {},
   "outputs": [],
   "source": []
  },
  {
   "cell_type": "code",
   "execution_count": null,
   "metadata": {},
   "outputs": [],
   "source": []
  },
  {
   "cell_type": "code",
   "execution_count": 16,
   "metadata": {},
   "outputs": [
    {
     "name": "stdout",
     "output_type": "stream",
     "text": [
      "1 (2801861, 102) (2810476, 102)\n",
      "2\n",
      "3\n"
     ]
    },
    {
     "data": {
      "image/png": "[encoded data removed]",
      "text/plain": [
       "<Figure size 432x288 with 1 Axes>"
      ]
     },
     "metadata": {
      "needs_background": "light"
     },
     "output_type": "display_data"
    }
   ],
   "source": [
    "filepathDijets=\"/global/project/projectdirs/atlas/massDecorrelatedXbb/Xbb0106/DataVRGhost/FlattenResample/MergedTop.h5\"\n",
    "filepathHiggs=\"/global/project/projectdirs/atlas/massDecorrelatedXbb/Xbb0106/DataVRGhost/FlattenResample/MergedHbb.h5\"\n",
    "filepathTop=\"/global/project/projectdirs/atlas/massDecorrelatedXbb/Xbb0106/DataVRGhost/FlattenResample/MergedTop.h5\"\n",
    "loadDijets=h5py.File(filepathDijets,'r')\n",
    "loadHiggs=h5py.File(filepathHiggs,'r')\n",
    "loadTop=h5py.File(filepathTop,'r')\n",
    "\n",
    "dijets=loadDijets.get(\"data\")\n",
    "hbb=loadHiggs.get(\"data\")\n",
    "top=loadTop.get(\"data\")\n",
    "print \"1\",top.shape,dijets.shape\n",
    "\n",
    "dijets=np.reshape(dijets,(dijets.shape[0],dijets.shape[1]))\n",
    "hbb=np.reshape(hbb,(hbb.shape[0],hbb.shape[1]))\n",
    "top=np.reshape(top,(top.shape[0],top.shape[1]))\n",
    "print \"2\"\n",
    "\n",
    "dijetspt=dijets[:,5:6]\n",
    "higgspt=hbb[:,5:6]\n",
    "topt=top[:,5:6]\n",
    "dijetsweight=np.full((dijetspt.shape[0], 1), 1)\n",
    "higgsweight=np.full((higgspt.shape[0], 1), 1)\n",
    "topweight=np.full((topt.shape[0], 1), 1)\n",
    "print \"3\"\n",
    "\n",
    "bins=np.linspace(0, 4000, 401)\n",
    "plt.hist(dijetspt,weights=dijetsweight,bins=bins,label=\"Top_pt(no requirement)\",histtype=\"step\")\n",
    "#plt.hist(higgspt,weights=higgsweight,bins=bins,label=\"Higgs_pt\",histtype=\"step\")\n",
    "plt.hist(topt,weights=topweight,bins=bins,label=\"Top_pt(requirement=1)\",histtype=\"step\")\n",
    "plt.xlabel('pt')\n",
    "plt.ylabel('events')\n",
    "plt.yscale(\"log\", nonposy=\"clip\")\n",
    "plt.legend(loc='best')\n",
    "pt_file=\"figures/\"+\"pt_ghost_top.pdf\"\n",
    "pt_file1=pt_file.replace(\"pdf\",\"jpg\")\n",
    "plt.savefig(pt_file)\n",
    "\n",
    "plt.show()"
   ]
  },
  {
   "cell_type": "code",
   "execution_count": 9,
   "metadata": {},
   "outputs": [
    {
     "name": "stdout",
     "output_type": "stream",
     "text": [
      "1 (3265788, 23)\n",
      "3\n"
     ]
    },
    {
     "data": {
      "image/png": "[encoded data removed]",
      "text/plain": [
       "<Figure size 432x288 with 1 Axes>"
      ]
     },
     "metadata": {
      "needs_background": "light"
     },
     "output_type": "display_data"
    }
   ],
   "source": [
    "filepathDijets=\"/global/project/projectdirs/atlas/massDecorrelatedXbb/Xbb0106/DataVRGhost/FlattenReweighted/MergedDijets.h5\"\n",
    "filepathHiggs=\"/global/project/projectdirs/atlas/massDecorrelatedXbb/Xbb0106/DataVRGhost/FlattenReweighted/MergedHbb.h5\"\n",
    "filepathTop=\"/global/project/projectdirs/atlas/massDecorrelatedXbb/Xbb0106/DataVRGhost/FlattenReweighted/MergedTop.h5\"\n",
    "loadDijets=h5py.File(filepathDijets,'r')\n",
    "loadHiggs=h5py.File(filepathHiggs,'r')\n",
    "loadTop=h5py.File(filepathTop,'r')\n",
    "\n",
    "dijets=loadDijets.get(\"data\")\n",
    "hbb=loadHiggs.get(\"data\")\n",
    "top=loadTop.get(\"data\")\n",
    "print \"1\",top.shape\n",
    "\n",
    "dijets=np.reshape(dijets,(dijets.shape[0],dijets.shape[1]))\n",
    "hbb=np.reshape(hbb,(hbb.shape[0],hbb.shape[1]))\n",
    "top=np.reshape(top,(top.shape[0],top.shape[1]))\n",
    "\n",
    "dijetspt=dijets[:,8:9]\n",
    "higgspt=hbb[:,8:9]\n",
    "topt=top[:,8:9]\n",
    "dijetsweight=np.full((dijetspt.shape[0], 1), 1)\n",
    "higgsweight=np.full((higgspt.shape[0], 1), 1)\n",
    "topweight=np.full((topt.shape[0], 1), 1)\n",
    "print \"3\"\n",
    "\n",
    "bins=np.linspace(0, 4000, 401)\n",
    "plt.hist(dijetspt,weights=dijetsweight,bins=bins,label=\"QCD_pt\",histtype=\"step\")\n",
    "plt.hist(higgspt,weights=higgsweight,bins=bins,label=\"Higgs_pt\",histtype=\"step\")\n",
    "plt.hist(topt,weights=topweight,bins=bins,label=\"Top_pt\",histtype=\"step\")\n",
    "#plt.hist(dijetspt,weights=dijets[:,0],bins=bins,label=\"QCD_pt\",histtype=\"step\")\n",
    "#plt.hist(higgspt,weights=hbb[:,0],bins=bins,label=\"Higgs_pt\",histtype=\"step\")\n",
    "#plt.hist(topt,weights=top[:,0],bins=bins,label=\"Top_pt\",histtype=\"step\")\n",
    "plt.xlabel('pt')\n",
    "plt.ylabel('events')\n",
    "plt.yscale(\"log\", nonposy=\"clip\")\n",
    "plt.legend(loc='best')\n",
    "plt.text(1000,1e3*1,r'$\\sqrt{s}$=13TeV')\n",
    "plt.text(1000,1e3*0.4,r'Xbb tagger')\n",
    "plt.text(700,1e3*0.2,r'Pt before resampling')\n",
    "pt_file=\"figures/\"+\"pt_beforeResample.pdf\"\n",
    "pt_file1=pt_file.replace(\"pdf\",\"jpg\")\n",
    "plt.savefig(pt_file)\n",
    "plt.savefig(pt_file1)\n",
    "plt.show()"
   ]
  },
  {
   "cell_type": "code",
   "execution_count": 7,
   "metadata": {},
   "outputs": [],
   "source": [
    "a=['reweight','weight','eventNumber','dsid','mass','pt','eta','Split12', 'Split23', 'Qw','PlanarFlow', 'Angularity', 'Aplanarity', 'ZCut12', 'KtDR', 'C2', 'D2', 'e3', 'Tau21_wta', 'Tau32_wta', 'FoxWolfram20','vr_dl1r_pb_1', 'vr_dl1r_pc_1', 'vr_dl1r_pu_1', 'vr_dl1r_pb_2', 'vr_dl1r_pc_2', 'vr_dl1r_pu_2', 'vr_dl1r_pb_3', 'vr_dl1r_pc_3', 'vr_dl1r_pu_3','JetFitter_N2Tpair_1', 'JetFitter_dRFlightDir_1', 'JetFitter_deltaeta_1', 'JetFitter_deltaphi_1', 'JetFitter_energyFraction_1', 'JetFitter_mass_1', 'JetFitter_massUncorr_1', 'JetFitter_nSingleTracks_1', 'JetFitter_nTracksAtVtx_1', 'JetFitter_nVTX_1', 'JetFitter_significance3d_1','SV1_L3d_1', 'SV1_Lxy_1', 'SV1_N2Tpair_1', 'SV1_NGTinSvx_1', 'SV1_deltaR_1', 'SV1_dstToMatLay_1', 'SV1_efracsvx_1', 'SV1_masssvx_1', 'SV1_significance3d_1', 'iprnn_pu_1', 'iprnn_pc_1', 'iprnn_pb_1', 'JetFitter_N2Tpair_2', 'JetFitter_dRFlightDir_2', 'JetFitter_deltaeta_2', 'JetFitter_deltaphi_2', 'JetFitter_energyFraction_2', 'JetFitter_mass_2', 'JetFitter_massUncorr_2', 'JetFitter_nSingleTracks_2', 'JetFitter_nTracksAtVtx_2', 'JetFitter_nVTX_2', 'JetFitter_significance3d_2', 'SV1_L3d_2', 'SV1_Lxy_2', 'SV1_N2Tpair_2', 'SV1_NGTinSvx_2', 'SV1_deltaR_2', 'SV1_dstToMatLay_2', 'SV1_efracsvx_2', 'SV1_masssvx_2', 'SV1_significance3d_2', 'iprnn_pu_2', 'iprnn_pc_2', 'iprnn_pb_2', 'JetFitter_N2Tpair_3', 'JetFitter_dRFlightDir_3', 'JetFitter_deltaeta_3', 'JetFitter_deltaphi_3', 'JetFitter_energyFraction_3', 'JetFitter_mass_3', 'JetFitter_massUncorr_3', 'JetFitter_nSingleTracks_3', 'JetFitter_nTracksAtVtx_3', 'JetFitter_nVTX_3', 'JetFitter_significance3d_3', 'SV1_L3d_3', 'SV1_Lxy_3', 'SV1_N2Tpair_3', 'SV1_NGTinSvx_3', 'SV1_deltaR_3', 'SV1_dstToMatLay_3', 'SV1_efracsvx_3', 'SV1_masssvx_3', 'SV1_significance3d_3', 'iprnn_pu_3', 'iprnn_pc_3', 'iprnn_pb_3', 'rnnip_pu_1', 'rnnip_pc_1', 'rnnip_pb_1', 'rnnip_ptau_1', 'rnnip_pu_2', 'rnnip_pc_2', 'rnnip_pb_2', 'rnnip_ptau_2', 'rnnip_pu_3', 'rnnip_pc_3', 'rnnip_pb_3', 'rnnip_ptau_3']"
   ]
  },
  {
   "cell_type": "code",
   "execution_count": 20,
   "metadata": {},
   "outputs": [
    {
     "data": {
      "text/plain": [
       "0.09667220939235037"
      ]
     },
     "execution_count": 20,
     "metadata": {},
     "output_type": "execute_result"
    }
   ],
   "source": [
    "len(a)\n",
    "c=3269286.0\n",
    "d=3619158.0\n",
    "(d-c)/d"
   ]
  },
  {
   "cell_type": "code",
   "execution_count": null,
   "metadata": {},
   "outputs": [],
   "source": []
  }
 ],
 "metadata": {
  "kernelspec": {
   "display_name": "Python 3",
   "language": "python",
   "name": "python3"
  },
  "language_info": {
   "codemirror_mode": {
    "name": "ipython",
    "version": 3
   },
   "file_extension": ".py",
   "mimetype": "text/x-python",
   "name": "python",
   "nbconvert_exporter": "python",
   "pygments_lexer": "ipython3",
   "version": "3.7.4"
  }
 },
 "nbformat": 4,
 "nbformat_minor": 4
}
